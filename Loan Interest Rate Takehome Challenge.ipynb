{
 "cells": [
  {
   "cell_type": "code",
   "execution_count": 1,
   "metadata": {},
   "outputs": [],
   "source": [
    "import pandas as pd\n",
    "import numpy as np\n",
    "import matplotlib.pyplot as plt\n",
    "import seaborn as sbn\n",
    "from datetime import datetime\n",
    "from sklearn.model_selection import train_test_split\n",
    "from sklearn.linear_model import LinearRegression\n",
    "from sklearn.ensemble import RandomForestRegressor\n",
    "from sklearn.ensemble import GradientBoostingRegressor\n",
    "from sklearn.neighbors import KNeighborsClassifier\n",
    "from sklearn.metrics import mean_squared_error\n",
    "\n",
    "%matplotlib inline"
   ]
  },
  {
   "cell_type": "code",
   "execution_count": 2,
   "metadata": {},
   "outputs": [
    {
     "name": "stderr",
     "output_type": "stream",
     "text": [
      "C:\\Users\\jerem\\Anaconda3\\lib\\site-packages\\IPython\\core\\interactiveshell.py:3057: DtypeWarning: Columns (15) have mixed types. Specify dtype option on import or set low_memory=False.\n",
      "  interactivity=interactivity, compiler=compiler, result=result)\n"
     ]
    }
   ],
   "source": [
    "df = pd.read_csv('Data for Cleaning & Modeling.csv')"
   ]
  },
  {
   "cell_type": "code",
   "execution_count": 3,
   "metadata": {},
   "outputs": [
    {
     "name": "stdout",
     "output_type": "stream",
     "text": [
      "<class 'pandas.core.frame.DataFrame'>\n",
      "RangeIndex: 400000 entries, 0 to 399999\n",
      "Data columns (total 32 columns):\n",
      "X1     338990 non-null object\n",
      "X2     399999 non-null float64\n",
      "X3     399999 non-null float64\n",
      "X4     399999 non-null object\n",
      "X5     399999 non-null object\n",
      "X6     399999 non-null object\n",
      "X7     399999 non-null object\n",
      "X8     338730 non-null object\n",
      "X9     338730 non-null object\n",
      "X10    376014 non-null object\n",
      "X11    382462 non-null object\n",
      "X12    338639 non-null object\n",
      "X13    338972 non-null float64\n",
      "X14    399999 non-null object\n",
      "X15    399999 non-null object\n",
      "X16    123560 non-null object\n",
      "X17    399999 non-null object\n",
      "X18    399981 non-null object\n",
      "X19    399999 non-null object\n",
      "X20    399999 non-null object\n",
      "X21    399999 non-null float64\n",
      "X22    399999 non-null float64\n",
      "X23    399999 non-null object\n",
      "X24    399999 non-null float64\n",
      "X25    181198 non-null float64\n",
      "X26    51155 non-null float64\n",
      "X27    399999 non-null float64\n",
      "X28    399999 non-null float64\n",
      "X29    399999 non-null float64\n",
      "X30    399733 non-null object\n",
      "X31    399999 non-null float64\n",
      "X32    399999 non-null object\n",
      "dtypes: float64(12), object(20)\n",
      "memory usage: 97.7+ MB\n"
     ]
    }
   ],
   "source": [
    "df.info()"
   ]
  },
  {
   "cell_type": "markdown",
   "metadata": {},
   "source": [
    "Rename column names for greater readability"
   ]
  },
  {
   "cell_type": "code",
   "execution_count": 4,
   "metadata": {},
   "outputs": [],
   "source": [
    "column_names = ['interest_rate','loan_id','borrower_id','amount_requested','amount_funded',\n",
    " 'investor_funded_portion','number_of_payments','loan_grade','loan_subgrade',\n",
    " 'employer_or_jobtitle','years_employed','home_ownership_status','annual_income',\n",
    " 'income_verification_status','issue_date','loan_reason','loan_category','loan_title',\n",
    " 'zip_code','state','debt_to_income_ratio','number_of_deliquencies','earliest_credit_line_date',\n",
    " 'number_of_inquiries','months_since_last_delinquency','months_since_last_public_record',\n",
    " 'number_of_open_credit_lines','number_of_derogatory_public_records','total_revolving_credit',\n",
    " 'line_utilization_rate','number_of_credit_lines','listing_status']"
   ]
  },
  {
   "cell_type": "code",
   "execution_count": 5,
   "metadata": {},
   "outputs": [],
   "source": [
    "df.columns = column_names"
   ]
  },
  {
   "cell_type": "code",
   "execution_count": 6,
   "metadata": {},
   "outputs": [
    {
     "name": "stdout",
     "output_type": "stream",
     "text": [
      "<class 'pandas.core.frame.DataFrame'>\n",
      "RangeIndex: 400000 entries, 0 to 399999\n",
      "Data columns (total 32 columns):\n",
      "interest_rate                          338990 non-null object\n",
      "loan_id                                399999 non-null float64\n",
      "borrower_id                            399999 non-null float64\n",
      "amount_requested                       399999 non-null object\n",
      "amount_funded                          399999 non-null object\n",
      "investor_funded_portion                399999 non-null object\n",
      "number_of_payments                     399999 non-null object\n",
      "loan_grade                             338730 non-null object\n",
      "loan_subgrade                          338730 non-null object\n",
      "employer_or_jobtitle                   376014 non-null object\n",
      "years_employed                         382462 non-null object\n",
      "home_ownership_status                  338639 non-null object\n",
      "annual_income                          338972 non-null float64\n",
      "income_verification_status             399999 non-null object\n",
      "issue_date                             399999 non-null object\n",
      "loan_reason                            123560 non-null object\n",
      "loan_category                          399999 non-null object\n",
      "loan_title                             399981 non-null object\n",
      "zip_code                               399999 non-null object\n",
      "state                                  399999 non-null object\n",
      "debt_to_income_ratio                   399999 non-null float64\n",
      "number_of_deliquencies                 399999 non-null float64\n",
      "earliest_credit_line_date              399999 non-null object\n",
      "number_of_inquiries                    399999 non-null float64\n",
      "months_since_last_delinquency          181198 non-null float64\n",
      "months_since_last_public_record        51155 non-null float64\n",
      "number_of_open_credit_lines            399999 non-null float64\n",
      "number_of_derogatory_public_records    399999 non-null float64\n",
      "total_revolving_credit                 399999 non-null float64\n",
      "line_utilization_rate                  399733 non-null object\n",
      "number_of_credit_lines                 399999 non-null float64\n",
      "listing_status                         399999 non-null object\n",
      "dtypes: float64(12), object(20)\n",
      "memory usage: 97.7+ MB\n"
     ]
    }
   ],
   "source": [
    "df.info()"
   ]
  },
  {
   "cell_type": "markdown",
   "metadata": {},
   "source": [
    "Drop rows with missing interest rates, line utilization rate, and loan_id"
   ]
  },
  {
   "cell_type": "code",
   "execution_count": 7,
   "metadata": {},
   "outputs": [],
   "source": [
    "loan_df = df[pd.notnull(df.loan_id) & pd.notnull(df.interest_rate) & pd.notnull(df.line_utilization_rate)].copy()"
   ]
  },
  {
   "cell_type": "markdown",
   "metadata": {},
   "source": [
    "Convert amount requested, line utilization rate, and interest rate fields into numeric types"
   ]
  },
  {
   "cell_type": "code",
   "execution_count": 8,
   "metadata": {},
   "outputs": [],
   "source": [
    "loan_df.amount_requested = loan_df.amount_requested.apply(lambda x: float(x.replace('$','').replace(',','')))\n",
    "loan_df.line_utilization_rate = loan_df.line_utilization_rate.apply(lambda x: float(x.replace('%','')) if pd.notnull(x) else x)\n",
    "loan_df.interest_rate = loan_df.interest_rate.apply(lambda x: float(x.replace('%','')))"
   ]
  },
  {
   "cell_type": "markdown",
   "metadata": {},
   "source": [
    "Extract date fields"
   ]
  },
  {
   "cell_type": "code",
   "execution_count": 9,
   "metadata": {},
   "outputs": [],
   "source": [
    "loan_df['issue_year'] = loan_df.issue_date.apply(lambda x: int(x.split('-')[1]))\n",
    "\n",
    "month_map = {'Jan':1,'Feb':2,'Mar':3,'Apr':4,'May':5,'Jun':6,'Jul':7,'Aug':8,'Sep':9,'Oct':10,'Nov':11,'Dec':12}\n",
    "loan_df['issue_month'] = loan_df.issue_date.apply(lambda x: month_map[x.split('-')[0]])"
   ]
  },
  {
   "cell_type": "markdown",
   "metadata": {},
   "source": [
    "Fill missing annual income values"
   ]
  },
  {
   "cell_type": "code",
   "execution_count": 10,
   "metadata": {},
   "outputs": [],
   "source": [
    "annual_income_lkup1 = loan_df.groupby(['state','zip_code','employer_or_jobtitle'])['annual_income'].median().dropna().to_dict()\n",
    "annual_income_lkup2 = loan_df.groupby(['state','employer_or_jobtitle'])['annual_income'].median().dropna().to_dict()\n",
    "annual_income_lkup3 = loan_df.groupby(['state','zip_code'])['annual_income'].median().dropna().to_dict()\n",
    "annual_income_lkup4 = loan_df.groupby(['state'])['annual_income'].median().to_dict()\n",
    "\n",
    "def fill_annual_income(state, zip_code, employment):\n",
    "    if (state, zip_code, employment) in annual_income_lkup1:\n",
    "        return annual_income_lkup1[(state, zip_code, employment)]\n",
    "    elif (state, employment) in annual_income_lkup2:\n",
    "        return annual_income_lkup2[(state, employment)]\n",
    "    elif (state, zip_code) in annual_income_lkup3:\n",
    "        return annual_income_lkup3[(state, zip_code)]\n",
    "    else:\n",
    "        return annual_income_lkup4[state]\n",
    "\n",
    "loan_df.annual_income = loan_df.apply(lambda row: fill_annual_income(row['state'],row['zip_code'],row['employer_or_jobtitle']) if pd.isnull(row['annual_income']) else row['annual_income'], axis=1)"
   ]
  },
  {
   "cell_type": "markdown",
   "metadata": {},
   "source": [
    "Fill missing deliquency values"
   ]
  },
  {
   "cell_type": "code",
   "execution_count": 11,
   "metadata": {},
   "outputs": [],
   "source": [
    "loan_df['had_deliquency'] = loan_df.months_since_last_delinquency.apply(lambda x: 1 if pd.notnull(x) else 0)\n",
    "loan_df.months_since_last_delinquency = loan_df.months_since_last_delinquency.fillna(0)"
   ]
  },
  {
   "cell_type": "markdown",
   "metadata": {},
   "source": [
    "Create new feature for length of credit history"
   ]
  },
  {
   "cell_type": "code",
   "execution_count": 12,
   "metadata": {},
   "outputs": [],
   "source": [
    "loan_df['credit_age'] = loan_df.earliest_credit_line_date.apply(lambda x: 2016 - datetime.strptime(x,'%b-%y').year)"
   ]
  },
  {
   "cell_type": "markdown",
   "metadata": {},
   "source": [
    "Convert listing status and number of payments into boolean field"
   ]
  },
  {
   "cell_type": "code",
   "execution_count": 13,
   "metadata": {},
   "outputs": [],
   "source": [
    "loan_df.listing_status = loan_df.listing_status.apply(lambda x: 1 if x == 'f' else 0)\n",
    "loan_df.number_of_payments = loan_df.number_of_payments.apply(lambda x: 1 if x == ' 36 months' else 0)"
   ]
  },
  {
   "cell_type": "markdown",
   "metadata": {},
   "source": [
    "Fill loan grade using KNN"
   ]
  },
  {
   "cell_type": "code",
   "execution_count": 14,
   "metadata": {},
   "outputs": [],
   "source": [
    "subgrade_map = {g:n+1 for n,g in enumerate(sorted(loan_df[loan_df.loan_subgrade.notnull()].loan_subgrade.unique()))}\n",
    "loan_df.loan_subgrade = loan_df.loan_subgrade.apply(lambda x: subgrade_map[x] if x in subgrade_map else x)\n",
    "\n",
    "knn_clf = KNeighborsClassifier(n_neighbors=5)\n",
    "\n",
    "knn_features = ['interest_rate']\n",
    "\n",
    "knn_df = loan_df[loan_df.loan_subgrade.notnull()][knn_features]\n",
    "\n",
    "Y_knn = loan_df[loan_df.loan_subgrade.notnull()]['loan_subgrade']\n",
    "\n",
    "knn_clf.fit(knn_df,Y_knn)\n",
    "\n",
    "null_grades = loan_df[loan_df.loan_subgrade.isnull()][['interest_rate','loan_subgrade']].copy()\n",
    "null_grades['loan_subgrade'] = knn_clf.predict(null_grades.interest_rate.values.reshape(-1,1))\n",
    "loan_df.update(null_grades)"
   ]
  },
  {
   "cell_type": "code",
   "execution_count": 15,
   "metadata": {},
   "outputs": [],
   "source": [
    "features = ['amount_requested','number_of_payments','annual_income','loan_subgrade',\n",
    "            'issue_year','issue_month','credit_age', 'debt_to_income_ratio','line_utilization_rate','had_deliquency',\n",
    "            'months_since_last_delinquency','number_of_open_credit_lines','number_of_inquiries', 'total_revolving_credit',\n",
    "            'number_of_derogatory_public_records','listing_status']"
   ]
  },
  {
   "cell_type": "code",
   "execution_count": 16,
   "metadata": {},
   "outputs": [],
   "source": [
    "features_df = loan_df[features]\n",
    "Y = loan_df['interest_rate']\n",
    "\n",
    "X_train, X_test, y_train, y_test = train_test_split(features_df, Y, test_size=0.3, random_state=50)"
   ]
  },
  {
   "cell_type": "code",
   "execution_count": 17,
   "metadata": {},
   "outputs": [
    {
     "name": "stdout",
     "output_type": "stream",
     "text": [
      "Linear Regression RMSE 0.9087777733683705\n"
     ]
    }
   ],
   "source": [
    "linear_reg = LinearRegression()\n",
    "linear_reg.fit(X_train,y_train)\n",
    "pred = linear_reg.predict(X_test)\n",
    "\n",
    "print('Linear Regression RMSE {0}'.format(mean_squared_error(y_test,pred)**0.5))"
   ]
  },
  {
   "cell_type": "code",
   "execution_count": 18,
   "metadata": {},
   "outputs": [
    {
     "name": "stdout",
     "output_type": "stream",
     "text": [
      "Random Forest RMSE 0.24078972444603933\n"
     ]
    }
   ],
   "source": [
    "rf_reg = RandomForestRegressor(n_estimators=100)\n",
    "rf_reg.fit(X_train, y_train)\n",
    "pred = rf_reg.predict(X_test)\n",
    "\n",
    "print('Random Forest RMSE {0}'.format(mean_squared_error(y_test,pred)**0.5))"
   ]
  },
  {
   "cell_type": "code",
   "execution_count": null,
   "metadata": {},
   "outputs": [],
   "source": []
  }
 ],
 "metadata": {
  "kernelspec": {
   "display_name": "Python 3",
   "language": "python",
   "name": "python3"
  },
  "language_info": {
   "codemirror_mode": {
    "name": "ipython",
    "version": 3
   },
   "file_extension": ".py",
   "mimetype": "text/x-python",
   "name": "python",
   "nbconvert_exporter": "python",
   "pygments_lexer": "ipython3",
   "version": "3.7.3"
  }
 },
 "nbformat": 4,
 "nbformat_minor": 2
}
